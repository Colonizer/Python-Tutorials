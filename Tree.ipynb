{
 "cells": [
  {
   "cell_type": "code",
   "execution_count": 118,
   "metadata": {},
   "outputs": [],
   "source": [
    "import random\n",
    "class OrangeTree:\n",
    "    def __init__(self, age = 0, height = 0, fruits = 0, dead = False):\n",
    "        self.age = int(age)\n",
    "        self.height = int(height)\n",
    "        self.fruits = int(fruits)\n",
    "        self.dead = False\n",
    "        self.probability = 0\n",
    "\n",
    "    def one_year_passes(self):\n",
    "        self.fruits = 0\n",
    "        self.age += 1\n",
    "        if self.age <= 10:\n",
    "            self.height += 1\n",
    "        death_prob = (self.age - 50) * 0.02\n",
    "        if random.random() < death_prob:\n",
    "            self.dead = True\n",
    "        if self.age >= 100:\n",
    "            self.dead = True\n",
    "        if self.age > 5 and self.age < 10:\n",
    "            self.fruits += 100\n",
    "        if self.age >= 10 and self.age < 15:\n",
    "            self.fruits += 200\n",
    "\n",
    "    def pick_a_fruit(self):\n",
    "        if self.fruits > 0:\n",
    "            self.fruits -= 1\n"
   ]
  },
  {
   "cell_type": "code",
   "execution_count": 122,
   "metadata": {},
   "outputs": [
    {
     "name": "stdout",
     "output_type": "stream",
     "text": [
      "0\n"
     ]
    }
   ],
   "source": [
    "tree = OrangeTree(50, 10, 0, False)\n",
    "print(tree.fruits)\n",
    "tree.one_year_passes()\n",
    "print(tree.age)\n",
    "#print(tree.fruits)\n",
    "#tree.pick_a_fruit()\n",
    "#print(tree.fruits)\n",
    "#tree.one_year_passes()\n",
    "#print(tree.fruits)\n",
    "#tree.one_year_passes()\n",
    "#print(tree.probability)\n",
    "\n"
   ]
  },
  {
   "cell_type": "code",
   "execution_count": 120,
   "metadata": {},
   "outputs": [
    {
     "name": "stdout",
     "output_type": "stream",
     "text": [
      "0\n"
     ]
    }
   ],
   "source": [
    "tree.one_year_passes()\n",
    "print(tree.probability)\n"
   ]
  },
  {
   "cell_type": "code",
   "execution_count": 93,
   "metadata": {},
   "outputs": [
    {
     "name": "stdout",
     "output_type": "stream",
     "text": [
      "0.9867795331518598\n"
     ]
    }
   ],
   "source": [
    "car = 0.0\n",
    "car += random.uniform(0, 1)\n",
    "print(car)\n"
   ]
  }
 ],
 "metadata": {
  "kernelspec": {
   "display_name": "Python 3",
   "language": "python",
   "name": "python3"
  },
  "language_info": {
   "codemirror_mode": {
    "name": "ipython",
    "version": 3
   },
   "file_extension": ".py",
   "mimetype": "text/x-python",
   "name": "python",
   "nbconvert_exporter": "python",
   "pygments_lexer": "ipython3",
   "version": "3.11.1"
  },
  "orig_nbformat": 4,
  "vscode": {
   "interpreter": {
    "hash": "aee8b7b246df8f9039afb4144a1f6fd8d2ca17a180786b69acc140d282b71a49"
   }
  }
 },
 "nbformat": 4,
 "nbformat_minor": 2
}
