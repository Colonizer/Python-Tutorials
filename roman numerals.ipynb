{
 "cells": [
  {
   "attachments": {},
   "cell_type": "markdown",
   "metadata": {},
   "source": [
    "Background and Objectives\n",
    "Let’s use dictionarys to help us quickly convert Roman Numerals to integers. Take a look at this table to brush up on Roman Numerals. Do you notice any patterns we could take advantage of?\n",
    "\n",
    "Specs\n",
    "Write a function roman_to_int It should take one argument, a string, and convert it into its corresponding integer eg:\n",
    "\n",
    "roman_to_int(‘IV’) #=> 4\n",
    "roman_to_int(‘XVI’) #=> 16\n",
    "roman_to_int(‘MI’) #=> 1001\n",
    "Hint - you might consider including 4/40/400 and 9/90/900 in your dictionary 😉"
   ]
  },
  {
   "cell_type": "code",
   "execution_count": 6,
   "metadata": {},
   "outputs": [],
   "source": [
    "def roman_to_int(st):\n",
    "    d = {\"I\": 1,\n",
    "         \"V\": 5,\n",
    "         \"X\": 10,\n",
    "         \"L\": 50,\n",
    "         \"C\": 100,\n",
    "         \"D\": 500,\n",
    "         \"M\": 1000}\n",
    "\n",
    "    num = 0\n",
    "    for i in range(len(st)-1):\n",
    "        if d[st[i]] >= d[st[i+1]]:\n",
    "            num += d[st[i]]\n",
    "        else:\n",
    "            num -= d[st[i]]\n",
    "    return num + d[st[-1]]\n",
    "    \n"
   ]
  }
 ],
 "metadata": {
  "kernelspec": {
   "display_name": "Python 3",
   "language": "python",
   "name": "python3"
  },
  "language_info": {
   "codemirror_mode": {
    "name": "ipython",
    "version": 3
   },
   "file_extension": ".py",
   "mimetype": "text/x-python",
   "name": "python",
   "nbconvert_exporter": "python",
   "pygments_lexer": "ipython3",
   "version": "3.11.1 (v3.11.1:a7a450f84a, Dec  6 2022, 15:24:06) [Clang 13.0.0 (clang-1300.0.29.30)]"
  },
  "orig_nbformat": 4,
  "vscode": {
   "interpreter": {
    "hash": "aee8b7b246df8f9039afb4144a1f6fd8d2ca17a180786b69acc140d282b71a49"
   }
  }
 },
 "nbformat": 4,
 "nbformat_minor": 2
}
