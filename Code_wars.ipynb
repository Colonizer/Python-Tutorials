{
 "cells": [
  {
   "cell_type": "markdown",
   "metadata": {},
   "source": [
    "Background and Objectives\n",
    "We can break a number into different contiguous sub-subsequence parts. For example, the number 324 can be broken into parts like (3, 2, 4, 32, 24, 324). A colorful number is a number where the products of all the subsets of the digits are different. eg:\n",
    "\n",
    "263 is a colorful number (2, 6, 3, 2x6, 6x3, 2x6x3) are all different\n",
    "236 is not (2, 3, 6, 2x3, 3x6, 2x3x6) has 6 twice (6 and 2x3)\n",
    "\n",
    "Specs\n",
    "We want you to write a function is_colorful which takes a single number as an argument and returns True if the number is colorful, False otherwise.\n",
    "\n",
    "For this exercise, only consider numbers with up to 3 digits (not more), eg:\n",
    "is_colorful(263) #=> True\n",
    "is_colorful(236) #=> False"
   ]
  },
  {
   "cell_type": "code",
   "execution_count": 57,
   "metadata": {},
   "outputs": [
    {
     "data": {
      "text/plain": [
       "True"
      ]
     },
     "execution_count": 57,
     "metadata": {},
     "output_type": "execute_result"
    }
   ],
   "source": [
    "def is_colorful(number):\n",
    "    d = [int(i) for i in str(number)]\n",
    "    if len(d) == len(set(d)) and len(d) == 3:\n",
    "        outcomes = [(d[0]*d[1]), (d[1]*d[2]), (d[0]*d[1]*d[2]), d[0], d[1], d[2]]\n",
    "        return len(outcomes) == len(set(outcomes))\n",
    "    elif len(d) == len(set(d)) and len(d) == 2:\n",
    "        outcomes = [(d[0]*d[1]), d[0], d[1]]\n",
    "        return len(outcomes) == len(set(outcomes))\n",
    "    else:\n",
    "        return False\n",
    "        \n",
    "is_colorful(47)\n"
   ]
  },
  {
   "attachments": {},
   "cell_type": "markdown",
   "metadata": {},
   "source": [
    "2nd Exercise Instructions: \n",
    "\n",
    "Your team is writing a fancy new text editor and you've been tasked with implementing the line numbering.\n",
    "\n",
    "Write a function which takes a list of strings and returns each line prepended by the correct number.\n",
    "\n",
    "The numbering starts at 1. The format is n: string. Notice the colon and space in between.\n",
    "\n",
    "Examples: (Input --> Output)\n",
    "\n",
    "[] --> []\n",
    "[\"a\", \"b\", \"c\"] --> [\"1: a\", \"2: b\", \"3: c\"]"
   ]
  },
  {
   "cell_type": "code",
   "execution_count": 92,
   "metadata": {},
   "outputs": [
    {
     "name": "stdout",
     "output_type": "stream",
     "text": [
      "['1: a', '2: b', '3: c']\n",
      "['1: d', '2: e', '3: f']\n"
     ]
    }
   ],
   "source": [
    "\n",
    "def number(lines):\n",
    "    line_numbering = []\n",
    "    for index, line in enumerate(lines):\n",
    "        list = str(index+1) + \": \" + line\n",
    "        line_numbering.append(list)\n",
    "    return line_numbering\n",
    "\n",
    "\n",
    "print(number([\"a\", \"b\", \"c\"]))\n",
    "print(number([\"d\", \"e\", \"f\"]))\n"
   ]
  },
  {
   "attachments": {},
   "cell_type": "markdown",
   "metadata": {},
   "source": [
    "3rd Exercise Instructions:  \n",
    "Kevin is noticing his space run out! Write a function that removes the spaces from the values and returns an array showing the space decreasing. For example, running this function on the array ['i', 'have','no','space'] would produce ['i','ihave','ihaveno','ihavenospace']."
   ]
  },
  {
   "cell_type": "code",
   "execution_count": 99,
   "metadata": {},
   "outputs": [
    {
     "data": {
      "text/plain": [
       "['i', 'ihave', 'ihaveno', 'ihavenospace']"
      ]
     },
     "execution_count": 99,
     "metadata": {},
     "output_type": "execute_result"
    }
   ],
   "source": [
    "def remove_space(words):\n",
    "    new_list = [words[0]]\n",
    "    for i in range(1, len(words)):\n",
    "        new_list.append(new_list[i-1] + words[i])\n",
    "    return new_list\n",
    "    \n",
    "\n",
    "remove_space(['i', 'have','no','space'])\n"
   ]
  },
  {
   "attachments": {},
   "cell_type": "markdown",
   "metadata": {},
   "source": [
    "Create a function that returns the sum of the two lowest positive numbers given an array of minimum 4 positive integers. No floats or non-positive integers will be passed.\n",
    "\n",
    "For example, when an array is passed like [19, 5, 42, 2, 77], the output should be 7.\n",
    "\n",
    "[10, 343445353, 3453445, 3453545353453] should return 3453455."
   ]
  },
  {
   "cell_type": "code",
   "execution_count": 83,
   "metadata": {},
   "outputs": [],
   "source": [
    "def sum_two(array):\n",
    "    sorted_array = []\n",
    "    for n in array:\n",
    "        sorted_array.append(n)\n",
    "    sorted_array.sort()\n",
    "    return sorted_array[0] + sorted_array[1]\n",
    "    "
   ]
  },
  {
   "cell_type": "code",
   "execution_count": 84,
   "metadata": {},
   "outputs": [
    {
     "data": {
      "text/plain": [
       "7"
      ]
     },
     "execution_count": 84,
     "metadata": {},
     "output_type": "execute_result"
    }
   ],
   "source": [
    "sum_two([19, 5, 42, 2, 77])\n"
   ]
  },
  {
   "attachments": {},
   "cell_type": "markdown",
   "metadata": {},
   "source": [
    "Description\n",
    "Your job is to create a simple password validation function, as seen on many websites.\n",
    "\n",
    "The rules for a valid password are as follows:\n",
    "\n",
    "There needs to be at least 1 uppercase letter.\n",
    "There needs to be at least 1 lowercase letter.\n",
    "There needs to be at least 1 number.\n",
    "The password needs to be at least 8 characters long.\n",
    "You are permitted to use any methods to validate the password."
   ]
  },
  {
   "cell_type": "code",
   "execution_count": 147,
   "metadata": {},
   "outputs": [],
   "source": [
    "def has_letter_or_number(string):\n",
    "    alpha_list = []\n",
    "    numeric_list = []\n",
    "    for i in string:\n",
    "        if i.isdigit():\n",
    "            numeric_list.append(i)\n",
    "        if i.isalpha():\n",
    "            alpha_list.append(i)\n",
    "    return len(alpha_list) == 0 or len(numeric_list) == 0\n",
    "\n",
    "def password(string):\n",
    "    if len(string) < 8:\n",
    "        return False\n",
    "    elif string.islower():\n",
    "        return False\n",
    "    elif string.isupper():\n",
    "        return False\n",
    "    elif has_letter_or_number(string):\n",
    "        return False \n",
    "    else:\n",
    "        return True\n",
    "    \n"
   ]
  },
  {
   "cell_type": "code",
   "execution_count": 148,
   "metadata": {},
   "outputs": [
    {
     "data": {
      "text/plain": [
       "False"
      ]
     },
     "execution_count": 148,
     "metadata": {},
     "output_type": "execute_result"
    }
   ],
   "source": [
    "password(\"K{rnLn,Q-&\")\n",
    "\n",
    "\n"
   ]
  },
  {
   "attachments": {},
   "cell_type": "markdown",
   "metadata": {},
   "source": [
    "DESCRIPTION:\n",
    "One suggestion to build a satisfactory password is to start with a memorable phrase or sentence and make a password by extracting the first letter of each word.\n",
    "\n",
    "Even better is to replace some of those letters with numbers (e.g., the letter O can be replaced with the number 0):\n",
    "\n",
    "instead of including i or I put the number 1 in the password;\n",
    "instead of including o or O put the number 0 in the password;\n",
    "instead of including s or S put the number 5 in the password.\n",
    "Examples:\n",
    "\"Give me liberty or give me death\"  --> \"Gml0gmd\"\n",
    "\"Keep Calm and Carry On\"            --> \"KCaC0\""
   ]
  },
  {
   "cell_type": "code",
   "execution_count": 181,
   "metadata": {},
   "outputs": [],
   "source": [
    "\n",
    "\n",
    "def make_password(phrase):\n",
    "    word_array = []\n",
    "    first_letters = []\n",
    "    for i in phrase.split():\n",
    "        word_array.append(i)\n",
    "    for n in range(len(word_array)):\n",
    "        first_letters.append(word_array[n][0])\n",
    "    first_letters = [letter.replace('i', '1').replace('I', '1').replace('o', '0').replace(\n",
    "        'O', '0').replace('s', '5').replace('S', '5') for letter in first_letters]\n",
    "    password = ''.join(first_letters)\n",
    "    return password\n",
    "    \n",
    "\n"
   ]
  },
  {
   "cell_type": "code",
   "execution_count": 182,
   "metadata": {},
   "outputs": [
    {
     "data": {
      "text/plain": [
       "'KCaC0'"
      ]
     },
     "execution_count": 182,
     "metadata": {},
     "output_type": "execute_result"
    }
   ],
   "source": [
    "make_password(\"Keep Calm and Carry On\")\n"
   ]
  },
  {
   "attachments": {},
   "cell_type": "markdown",
   "metadata": {},
   "source": [
    "Write a function that returns a sequence (index begins with 1) of all the even characters from a string. If the string is smaller than two characters or longer than 100 characters, the function should return \"invalid string\".\n",
    "\n",
    "For example:\n",
    "\n",
    "\"abcdefghijklm\" --> [\"b\", \"d\", \"f\", \"h\", \"j\", \"l\"]\n",
    "\"a\"             --> \"invalid string\""
   ]
  },
  {
   "cell_type": "code",
   "execution_count": 192,
   "metadata": {},
   "outputs": [],
   "source": [
    "def even_chars(st):\n",
    "    even_list = []\n",
    "    if len(st) > 100:\n",
    "        return \"invalid string\"\n",
    "    if len(st) < 2:\n",
    "        return \"invalid string\"\n",
    "    for i in range(1,len(st), 2):\n",
    "        even_list.append(st[i])\n",
    "    return even_list\n",
    "    "
   ]
  },
  {
   "cell_type": "code",
   "execution_count": 193,
   "metadata": {},
   "outputs": [
    {
     "data": {
      "text/plain": [
       "'invalid string'"
      ]
     },
     "execution_count": 193,
     "metadata": {},
     "output_type": "execute_result"
    }
   ],
   "source": [
    "even_chars(\"a\")\n"
   ]
  },
  {
   "attachments": {},
   "cell_type": "markdown",
   "metadata": {},
   "source": [
    "Description\n",
    "The distance formula can be used to find the distance between two points. What if we were trying to walk from point A to point B, but there were buildings in the way? We would need some other formula..but which?\n",
    "\n",
    "Manhattan Distance\n",
    "Manhattan distance is the distance between two points in a grid (like the grid-like street geography of the New York borough of Manhattan) calculated by only taking a vertical and/or horizontal path.\n",
    "\n",
    "Complete the function that accepts two points and returns the Manhattan Distance between the two points.\n",
    "\n",
    "The points are arrays or tuples containing the x and y coordinate in the grid. You can think of x as the row in the grid, and y as the column.\n",
    "\n",
    "Examples\n",
    "* Input [1, 1], [1, 1] => Output 0\n",
    "* Input [5, 4], [3, 2] => Output 4\n",
    "* Input [1, 1], [0, 3] => Output 3"
   ]
  },
  {
   "cell_type": "code",
   "execution_count": 205,
   "metadata": {},
   "outputs": [
    {
     "data": {
      "text/plain": [
       "3"
      ]
     },
     "execution_count": 205,
     "metadata": {},
     "output_type": "execute_result"
    }
   ],
   "source": [
    "def manhattan_distance(pointA, pointB):\n",
    "    return abs((pointA[0]-pointB[0])) + abs((pointA[1]-pointB[1]))\n",
    "\n",
    "manhattan_distance([1,1], [0,3])"
   ]
  },
  {
   "attachments": {},
   "cell_type": "markdown",
   "metadata": {},
   "source": [
    "Introduction\n",
    "The wave (known as the Mexican wave in the English-speaking world outside North America) is an example of metachronal rhythm achieved in a packed stadium when successive groups of spectators briefly stand, yell, and raise their arms. Immediately upon stretching to full height, the spectator returns to the usual seated position.\n",
    "\n",
    "The result is a wave of standing spectators that travels through the crowd, even though individual spectators never move away from their seats. In many large arenas the crowd is seated in a contiguous circuit all the way around the sport field, and so the wave is able to travel continuously around the arena; in discontiguous seating arrangements, the wave can instead reflect back and forth through the crowd. When the gap in seating is narrow, the wave can sometimes pass through it. Usually only one wave crest will be present at any given time in an arena, although simultaneous, counter-rotating waves have been produced. (Source Wikipedia)\n",
    "Task\n",
    "In this simple Kata your task is to create a function that turns a string into a Mexican Wave. You will be passed a string and you must return that string in an array where an uppercase letter is a person standing up. \n",
    "Rules\n",
    " 1.  The input string will always be lower case but maybe empty.\n",
    "\n",
    " 2.  If the character in the string is whitespace then pass over it as if it was an empty seat\n",
    "Example\n",
    "wave(\"hello\") => [\"Hello\", \"hEllo\", \"heLlo\", \"helLo\", \"hellO\"]\n"
   ]
  },
  {
   "cell_type": "code",
   "execution_count": 101,
   "metadata": {},
   "outputs": [
    {
     "data": {
      "text/plain": [
       "['Hello', 'HEllo', 'HeLlo', 'HelLo', 'HellO']"
      ]
     },
     "execution_count": 101,
     "metadata": {},
     "output_type": "execute_result"
    }
   ],
   "source": [
    "def wave(st):\n",
    "    ls = []\n",
    "    for i, l in enumerate(st):\n",
    "        if l != ' ':\n",
    "            ls.append(st[:i]+st[i].upper()+st[i+1:])\n",
    "    return ls\n",
    "\n",
    "wave(\"Hello\")\n",
    "\n",
    "#Note: lst[i] = lst[i].replace(old, new)\n",
    "\n",
    "\n"
   ]
  },
  {
   "attachments": {},
   "cell_type": "markdown",
   "metadata": {},
   "source": [
    "Description\n",
    "Your task, is to create N×N multiplication table, of size provided in parameter.\n",
    "\n",
    "For example, when given size is 3:\n",
    "\n",
    "1 2 3\n",
    "2 4 6\n",
    "3 6 9\n",
    "For the given example, the return value should be:\n",
    "\n",
    "[[1,2,3],[2,4,6],[3,6,9]]\n"
   ]
  },
  {
   "attachments": {},
   "cell_type": "markdown",
   "metadata": {},
   "source": [
    "Challenge: \n",
    "\n",
    "Quite often our programs will need to accept inputs from a user, whether through terminal commands, API requests, or form submissions. In these cases inputs are processed as a str data type. Let’s practice type conversion by building a simple_calculator function.\n",
    "\n",
    "Specs\n",
    "Our function should take a single list of strings as an argument, containing our first opperand, followed by an operator and then the 2nd operand. eg:\n",
    "simple_calculator(['1', '+', '1' ]) #=> 2\n",
    "The function should return 'Please enter valid format: [Operand, Operator, Operand]' for arguments that don’t match the required format\n",
    "The funtion should work with the following simple operators +, -, *, /, %, and should return'Please enter a valid operator [ +, -, /, *, % ]' if any other operators are passed\n",
    "Assume that the operands are always numeric (floats or integers); no need to validate their data type"
   ]
  },
  {
   "cell_type": "code",
   "execution_count": 27,
   "metadata": {},
   "outputs": [
    {
     "data": {
      "text/plain": [
       "5.5"
      ]
     },
     "execution_count": 27,
     "metadata": {},
     "output_type": "execute_result"
    }
   ],
   "source": [
    "def simple_calculator(list):\n",
    "    a = float(list[0])\n",
    "    op = list[1]\n",
    "    b = float(list[2])\n",
    "    if op == '+':\n",
    "        return a + b\n",
    "    elif op == '-':\n",
    "        return a - b\n",
    "    elif op == '*':\n",
    "        return a * b\n",
    "    elif op == '/':\n",
    "        return a / b\n",
    "    elif op == '%':\n",
    "        return a % b\n",
    "    else:\n",
    "        return \"Please enter valid format: [Operand, Operator, Operand]\"\n",
    "    \n",
    "simple_calculator(['10.5', '-', '5'])\n"
   ]
  },
  {
   "attachments": {},
   "cell_type": "markdown",
   "metadata": {},
   "source": [
    "Background & Objectives\n",
    "When recruiting developers for your team, you often interview people who struggle with basic code. There is a famous article talking about\n",
    "Why can’t programmers…program? where it talks about the “FizzBuzz” problem.\n",
    "\n",
    "Let’s work on this basic program and make sure that we can do it 😊\n",
    "\n",
    "Specs\n",
    "Write a function fizz_buzz which takes a single number as an argument, and returns a list of numbers from 1 to that number, but replaces some of them according to these rules:\n",
    "\n",
    "If the number is divisible by 3, then replace it with ‘Fizz’\n",
    "If the number is divisible by 5, then replace it with ‘Buzz’\n",
    "If the number is divisible by both 3 and 5, then replace it with ‘FizzBuzz’"
   ]
  },
  {
   "cell_type": "code",
   "execution_count": 52,
   "metadata": {},
   "outputs": [
    {
     "data": {
      "text/plain": [
       "[1,\n",
       " 2,\n",
       " 'Fizz',\n",
       " 4,\n",
       " 'Buzz',\n",
       " 'Fizz',\n",
       " 7,\n",
       " 8,\n",
       " 'Fizz',\n",
       " 'Buzz',\n",
       " 11,\n",
       " 'Fizz',\n",
       " 13,\n",
       " 14,\n",
       " 'FizzBuzz',\n",
       " 16,\n",
       " 17,\n",
       " 'Fizz',\n",
       " 19,\n",
       " 'Buzz',\n",
       " 'Fizz',\n",
       " 22,\n",
       " 23,\n",
       " 'Fizz',\n",
       " 'Buzz',\n",
       " 26,\n",
       " 'Fizz',\n",
       " 28,\n",
       " 29,\n",
       " 'FizzBuzz']"
      ]
     },
     "execution_count": 52,
     "metadata": {},
     "output_type": "execute_result"
    }
   ],
   "source": [
    "def fizz_buzz(number):\n",
    "   list = []\n",
    "   for n in range(number):\n",
    "      list.append(n+1)\n",
    "      if list[n] % 3 == 0 and list[n] % 5 == 0:\n",
    "        list[n] = str(list[n]).replace(str(list[n]), \"FizzBuzz\")\n",
    "      elif list[n] % 3 == 0:\n",
    "        list[n] = str(list[n]).replace(str(list[n]), \"Fizz\")\n",
    "      elif list[n] % 5 == 0:\n",
    "        list[n] = str(list[n]).replace(str(list[n]), \"Buzz\")\n",
    "      else:\n",
    "        None\n",
    "\n",
    "   return list\n",
    "\n",
    "fizz_buzz(30)"
   ]
  },
  {
   "cell_type": "code",
   "execution_count": null,
   "metadata": {},
   "outputs": [],
   "source": [
    "Background & Objectives\n",
    "Thanks to Python’s built in random library we have access to a shuffle method, which when called on a list - returns a shuffled version of that list. In this advanced exercise, let’s try to code a shuffle function ourselves from scratch.\n",
    "\n",
    "Specs\n",
    "Code a manual_shuffle function:\n",
    "\n",
    "The function should take one argument, a list, and return a new list with all the items of your original list in a new, randomized order\n",
    "Do Not use any built in list methods to manipulate the order such as sort()\n",
    "Do Not use the built in shuffle method in python’s random library(let’s do it the hard way). But you might find some other helpful methods in there, we imported the random library for you at the top of the file 😉\n",
    "Hint: You should not makes changes to the original List, the copy method will come in handy. One approach could be to create a new empty array B, and until A is empty, randomly select an index in A, append the element in A at that index into B, then delete that index in A. Proceed until A is empty. B should contain the new shuffled array!\n"
   ]
  },
  {
   "cell_type": "code",
   "execution_count": 79,
   "metadata": {},
   "outputs": [
    {
     "data": {
      "text/plain": [
       "['f', 'c', 'd', 'e', 'b', 'a']"
      ]
     },
     "execution_count": 79,
     "metadata": {},
     "output_type": "execute_result"
    }
   ],
   "source": [
    "import random\n",
    "\n",
    "def randomizer(list):\n",
    "    new_list = random.sample(list, len(list))\n",
    "    return new_list\n",
    "\n",
    "\n",
    "randomizer(['a', 'b', 'c', 'd', 'e', 'f'])\n",
    "#Note: random.choice(seq)\n"
   ]
  },
  {
   "cell_type": "code",
   "execution_count": 241,
   "metadata": {},
   "outputs": [],
   "source": [
    "def multiplication_table(size):\n",
    "    table = []\n",
    "    for i in range(1, size+1):\n",
    "        row = []\n",
    "        for j in range(1, size+1):\n",
    "            row.append(i*j)\n",
    "        table.append(row)\n",
    "    return table\n"
   ]
  },
  {
   "cell_type": "code",
   "execution_count": 242,
   "metadata": {},
   "outputs": [
    {
     "data": {
      "text/plain": [
       "[[1, 2, 3, 4], [2, 4, 6, 8], [3, 6, 9, 12], [4, 8, 12, 16]]"
      ]
     },
     "execution_count": 242,
     "metadata": {},
     "output_type": "execute_result"
    }
   ],
   "source": [
    "multiplication_table(4)\n"
   ]
  },
  {
   "attachments": {},
   "cell_type": "markdown",
   "metadata": {},
   "source": [
    "Count the number of Duplicates\n",
    "Write a function that will return the count of distinct case-insensitive alphabetic characters and numeric digits that occur more than once in the input string. The input string can be assumed to contain only alphabets (both uppercase and lowercase) and numeric digits.\n",
    "\n",
    "Example\n",
    "\"abcde\" -> 0 # no characters repeats more than once\n",
    "\"aabbcde\" -> 2 # 'a' and 'b'\n",
    "\"aabBcde\" -> 2 # 'a' occurs twice and 'b' twice (`b` and `B`)\n",
    "\"indivisibility\" -> 1 # 'i' occurs six times\n",
    "\"Indivisibilities\" -> 2 # 'i' occurs seven times and 's' occurs twice\n",
    "\"aA11\" -> 2 # 'a' and '1'\n",
    "\"ABBA\" -> 2 # 'A' and 'B' each occur twice"
   ]
  },
  {
   "cell_type": "code",
   "execution_count": 118,
   "metadata": {},
   "outputs": [],
   "source": [
    "from collections import Counter\n",
    "def duplicate_count(text):\n",
    "    n_duplicates = 0\n",
    "    count_dict = Counter(text.upper())\n",
    "    for value in count_dict.values():\n",
    "        if value > 1:\n",
    "            n_duplicates += 1\n",
    "    return n_duplicates\n",
    "            \n",
    "    \n",
    "  \n"
   ]
  },
  {
   "cell_type": "code",
   "execution_count": 119,
   "metadata": {},
   "outputs": [
    {
     "data": {
      "text/plain": [
       "2"
      ]
     },
     "execution_count": 119,
     "metadata": {},
     "output_type": "execute_result"
    }
   ],
   "source": [
    "duplicate_count(\"Indivisibilities\")\n"
   ]
  },
  {
   "attachments": {},
   "cell_type": "markdown",
   "metadata": {},
   "source": [
    "The goal of this exercise is to convert a string to a new string where each character in the new string is \"(\" if that character appears only once in the original string, or \")\" if that character appears more than once in the original string. Ignore capitalization when determining if a character is a duplicate.\n",
    "\n",
    "Examples\n",
    "\"din\"      =>  \"(((\"\n",
    "\"recede\"   =>  \"()()()\"\n",
    "\"Success\"  =>  \")())())\"\n",
    "\"(( @\"     =>  \"))((\" \n",
    "Notes\n",
    "Assertion messages may be unclear about what they display in some languages. If you read \"...It Should encode XXX\", the \"XXX\" is the expected result, not the input!"
   ]
  },
  {
   "cell_type": "code",
   "execution_count": 155,
   "metadata": {},
   "outputs": [],
   "source": [
    "from collections import Counter\n",
    "def duplicate_encode(word):\n",
    "    new_string = \"\"\n",
    "    count_dict = Counter(word.lower())\n",
    "    for n in word.lower():\n",
    "        if count_dict[n]> 1:\n",
    "            new_string += \")\"\n",
    "        else:\n",
    "            new_string += \"(\"\n",
    "    return new_string\n",
    "            \n"
   ]
  },
  {
   "cell_type": "code",
   "execution_count": 156,
   "metadata": {},
   "outputs": [
    {
     "data": {
      "text/plain": [
       "')())())'"
      ]
     },
     "execution_count": 156,
     "metadata": {},
     "output_type": "execute_result"
    }
   ],
   "source": [
    "duplicate_encode(\"Success\")"
   ]
  },
  {
   "attachments": {},
   "cell_type": "markdown",
   "metadata": {},
   "source": [
    "Given an array of integers, find the one that appears an odd number of times.\n",
    "\n",
    "There will always be only one integer that appears an odd number of times.\n",
    "\n",
    "Examples\n",
    "[7] should return 7, because it occurs 1 time (which is odd).\n",
    "[0] should return 0, because it occurs 1 time (which is odd).\n",
    "[1,1,2] should return 2, because it occurs 1 time (which is odd).\n",
    "[0,1,0,1,0] should return 0, because it occurs 3 times (which is odd).\n",
    "[1,2,2,3,3,3,4,3,3,3,2,2,1] should return 4, because it appears 1 time (which is odd)."
   ]
  },
  {
   "cell_type": "code",
   "execution_count": 207,
   "metadata": {},
   "outputs": [],
   "source": [
    "from collections import Counter\n",
    "def find_it(seq):\n",
    "    count_dict = dict(Counter(seq))\n",
    "    for key,value in count_dict.items():\n",
    "        if value % 2 != 0:\n",
    "            return key\n"
   ]
  },
  {
   "cell_type": "code",
   "execution_count": 208,
   "metadata": {},
   "outputs": [
    {
     "data": {
      "text/plain": [
       "4"
      ]
     },
     "execution_count": 208,
     "metadata": {},
     "output_type": "execute_result"
    }
   ],
   "source": [
    "find_it([1, 2, 2, 3, 3, 3, 4, 3, 3, 3, 2, 2, 1])\n"
   ]
  },
  {
   "attachments": {},
   "cell_type": "markdown",
   "metadata": {},
   "source": [
    "Description\n",
    "Pirates have notorious difficulty with enunciating. They tend to blur all the letters together and scream at people.\n",
    "\n",
    "At long last, we need a way to unscramble what these pirates are saying.\n",
    "\n",
    "Write a function that will accept a jumble of letters as well as a dictionary, and output a list of words that the pirate might have meant.\n",
    "\n",
    "For example:\n",
    "\n",
    "grabscrab( \"ortsp\", [\"sport\", \"parrot\", \"ports\", \"matey\"] )\n",
    "Should return [\"sport\", \"ports\"].\n",
    "\n",
    "Return matches in the same order as in the dictionary. Return an empty array if there are no matches.\n",
    "\n",
    "Good luck!"
   ]
  },
  {
   "cell_type": "code",
   "execution_count": 224,
   "metadata": {},
   "outputs": [],
   "source": [
    "from collections import Counter\n",
    "def grabscrab(said, possible_words):\n",
    "    matches = []\n",
    "    d = {said: possible_words}\n",
    "    key_counter = Counter(said)\n",
    "    for value in d[said]:\n",
    "        if Counter(value) == key_counter:\n",
    "            matches.append(value)\n",
    "    return matches\n",
    "    \n"
   ]
  },
  {
   "cell_type": "code",
   "execution_count": 225,
   "metadata": {},
   "outputs": [
    {
     "data": {
      "text/plain": [
       "['sport', 'ports']"
      ]
     },
     "execution_count": 225,
     "metadata": {},
     "output_type": "execute_result"
    }
   ],
   "source": [
    "grabscrab( \"ortsp\", [\"sport\", \"parrot\", \"ports\", \"matey\"] )"
   ]
  },
  {
   "attachments": {},
   "cell_type": "markdown",
   "metadata": {},
   "source": [
    "Instructions\n",
    "Background & Objectives\n",
    "Let’s say you want to stay fit but keep eating McDonalds… You have the brilliant idea to write a quick function that computes the number of calories in your McDonalds order. We’ll use the table below as our abridged McDonalds menu:\n",
    "\n",
    "Item\tCalories\n",
    "Hamburger\t250\n",
    "Cheese Burger\t300\n",
    "Big Mac\t540\n",
    "McChicken\t350\n",
    "French Fries\t230\n",
    "Salad\t15\n",
    "Coca Cola\t150\n",
    "Sprite\t150\n",
    "\n",
    "\n",
    "You need to store this information in a python constant to create a kind of database. For this challenge we will declare our constant directly in the program.py file we are working with, instead of importing it.\n",
    "\n",
    "\n",
    "For instance, below is an example of dict saved to a constant - AGE_OF_STUDENTS - that contains students and their ages:\n",
    "\n",
    "AGE_OF_STUDENTS = {\n",
    "  \"Peter\": 21,\n",
    "  \"George\": 22,\n",
    "  \"Mary\": 20\n",
    "}\n",
    "Don’t forget to read the documentation about dicts. You’ll use them all the time, so make friends with them 😊\n",
    "\n",
    "Specs\n",
    "Create a poor_calories_counter function which takes three string arguments and returns the total number of calories for the three items of your order.\n",
    "\n",
    "your function should make use of a Dictionary (obviously!)\n",
    "your function must use our given calorie values! eg:\n",
    "poor_calories_counter(\"McChicken\", \"French Fries\", \"Sprite\")\n",
    "#=> 730\n",
    "your function should return “item_name not found” if an item is not in the dictionary eg:\n",
    "poor_calories_counter(\"Big Mac\", \"Salad\", \"Shrimp Po Boy\") \n",
    "#=> \"Shrimp Po Boy not found\"\n",
    "Key learning points\n",
    "What’s a Dict? When do you use them?\n",
    "How do you retrieve a value stored in a Dict?"
   ]
  },
  {
   "cell_type": "code",
   "execution_count": 384,
   "metadata": {},
   "outputs": [],
   "source": [
    "def poor_calories_counter(string1,string2,string3):\n",
    "    meal = ['Hamburger', 'Cheese Burger', 'Big Mac', 'McChicken', 'French Fries', 'Salad', 'Coca Cola', 'Sprite']\n",
    "    calories = [250, 300, 540, 350, 230, 15, 150, 150]\n",
    "    total_calories = 0\n",
    "    missing_string = False\n",
    "    d = {}\n",
    "    for key, value in zip(meal, calories):\n",
    "        d[key] = value\n",
    "    keys_to_check = [string1, string2, string3]\n",
    "    for key in keys_to_check:\n",
    "        if key not in d:\n",
    "            print(f'{key} not found')\n",
    "            missing_string= True       \n",
    "    if not missing_string:\n",
    "        total_calories = d[string1]+d[string2]+d[string3]\n",
    "        return total_calories\n",
    "    \n"
   ]
  },
  {
   "cell_type": "code",
   "execution_count": 385,
   "metadata": {},
   "outputs": [
    {
     "name": "stdout",
     "output_type": "stream",
     "text": [
      "Shrimp Po Boy not found\n"
     ]
    }
   ],
   "source": [
    "poor_calories_counter(\"Big Mac\", \"Salad\", \"Shrimp Po Boy\")\n"
   ]
  }
 ],
 "metadata": {
  "kernelspec": {
   "display_name": "Python 3",
   "language": "python",
   "name": "python3"
  },
  "language_info": {
   "codemirror_mode": {
    "name": "ipython",
    "version": 3
   },
   "file_extension": ".py",
   "mimetype": "text/x-python",
   "name": "python",
   "nbconvert_exporter": "python",
   "pygments_lexer": "ipython3",
   "version": "3.11.1 (v3.11.1:a7a450f84a, Dec  6 2022, 15:24:06) [Clang 13.0.0 (clang-1300.0.29.30)]"
  },
  "orig_nbformat": 4,
  "vscode": {
   "interpreter": {
    "hash": "aee8b7b246df8f9039afb4144a1f6fd8d2ca17a180786b69acc140d282b71a49"
   }
  }
 },
 "nbformat": 4,
 "nbformat_minor": 2
}
